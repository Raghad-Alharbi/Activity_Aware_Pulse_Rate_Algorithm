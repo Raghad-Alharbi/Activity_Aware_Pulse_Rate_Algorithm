{
 "cells": [
  {
   "cell_type": "markdown",
   "metadata": {},
   "source": [
    "## Part 2: Clinical Application\n",
    "\n",
    "### Contents\n",
    "Fill out this notebook as part 2 of your final project submission.\n",
    "\n",
    "**You will have to complete the Code (Load Metadata & Compute Resting Heart Rate) and Project Write-up sections.**  \n",
    "\n",
    "- [Code](#Code) is where you will implement some parts of the **pulse rate algorithm** you created and tested in Part 1 and already includes the starter code.\n",
    "  - [Imports](#Imports) - These are the imports needed for Part 2 of the final project. \n",
    "    - [glob](https://docs.python.org/3/library/glob.html)\n",
    "    - [os](https://docs.python.org/3/library/os.html)\n",
    "    - [numpy](https://numpy.org/)\n",
    "    - [pandas](https://pandas.pydata.org/)\n",
    "  - [Load the Dataset](#Load-the-dataset)  \n",
    "  - [Load Metadata](#Load-Metadata)\n",
    "  - [Compute Resting Heart Rate](#Compute-Resting-Heart-Rate)\n",
    "  - [Plot Resting Heart Rate vs. Age Group](#Plot-Resting-Heart-Rate-vs.-Age-Group)\n",
    "- [Project Write-up](#Project-Write-Up) to describe the clinical significance you observe from the **pulse rate algorithm** applied to this dataset, what ways/information that could improve your results, and if we validated a trend known in the science community. \n",
    "\n",
    "### Dataset (CAST)\n",
    "\n",
    "The data from this project comes from the [Cardiac Arrythmia Suppression Trial (CAST)](https://physionet.org/content/crisdb/1.0.0/), which was sponsored by the National Heart, Lung, and Blood Institute (NHLBI). CAST collected 24 hours of heart rate data from ECGs from people who have had a myocardial infarction (MI) within the past two years.[1] This data has been smoothed and resampled to more closely resemble PPG-derived pulse rate data from a wrist wearable.[2]\n",
    "\n",
    "1. **CAST RR Interval Sub-Study Database Citation** - Stein PK, Domitrovich PP, Kleiger RE, Schechtman KB, Rottman JN. Clinical and demographic determinants of heart rate variability in patients post myocardial infarction: insights from the Cardiac Arrhythmia Suppression Trial (CAST). Clin Cardiol 23(3):187-94; 2000 (Mar)\n",
    "2. **Physionet Citation** - Goldberger AL, Amaral LAN, Glass L, Hausdorff JM, Ivanov PCh, Mark RG, Mietus JE, Moody GB, Peng C-K, Stanley HE. PhysioBank, PhysioToolkit, and PhysioNet: Components of a New Research Resource for Complex Physiologic Signals (2003). Circulation. 101(23):e215-e220.\n",
    "\n",
    "-----"
   ]
  },
  {
   "cell_type": "markdown",
   "metadata": {},
   "source": [
    "### Code\n",
    "#### Imports\n",
    "\n",
    "When you implement the functions, you'll only need to you use the packages you've used in the classroom, like [Pandas](https://pandas.pydata.org/) and [Numpy](http://www.numpy.org/). These packages are imported for you here. We recommend you don't import other packages outside of the [Standard Library](https://docs.python.org/3/library/) , otherwise the grader might not be able to run your code."
   ]
  },
  {
   "cell_type": "code",
   "execution_count": 21,
   "metadata": {},
   "outputs": [],
   "source": [
    "import glob\n",
    "import os\n",
    "\n",
    "import numpy as np\n",
    "import pandas as pd\n",
    "\n",
    "# Pallets used for visualizations\n",
    "from matplotlib.colors import ListedColormap\n",
    "\n",
    "color= \"Spectral\"\n",
    "color_plt = ListedColormap(sns.color_palette(color).as_hex())\n",
    "color_hist = 'teal'\n",
    "two_colors = [ sns.color_palette(color)[0], sns.color_palette(color)[5]]\n",
    "three_colors = [ sns.color_palette(color)[5],sns.color_palette(color)[2], sns.color_palette(color)[0]]\n",
    "BOLD = '\\033[1m'\n",
    "END = '\\033[0m'"
   ]
  },
  {
   "cell_type": "code",
   "execution_count": 62,
   "metadata": {},
   "outputs": [],
   "source": [
    "#import sys \n",
    "#!{sys.executable} -m pip install seaborn==0.9.0"
   ]
  },
  {
   "cell_type": "markdown",
   "metadata": {},
   "source": [
    "#### Load the dataset\n",
    "\n",
    "The dataset is stored as [.npz](https://docs.scipy.org/doc/numpy/reference/generated/numpy.savez.html) files. Each file contains roughly 24 hours of heart rate data in the 'hr' array sampled at 1Hz. The subject ID is the name of the file. You will use these files to compute resting heart rate.\n",
    "\n",
    "Demographics metadata is stored in a file called 'metadata.csv'. This CSV has three columns, one for subject ID, age group, and sex. You will use this file to make the association between resting heart rate and age group for each gender.\n",
    "\n",
    "Find the dataset in `../datasets/crisdb/`"
   ]
  },
  {
   "cell_type": "code",
   "execution_count": 2,
   "metadata": {},
   "outputs": [],
   "source": [
    "hr_filenames = glob.glob('/data/crisdb/*.npz')"
   ]
  },
  {
   "cell_type": "code",
   "execution_count": 3,
   "metadata": {},
   "outputs": [
    {
     "data": {
      "text/plain": [
       "'/data/crisdb/e190a.npz'"
      ]
     },
     "execution_count": 3,
     "metadata": {},
     "output_type": "execute_result"
    }
   ],
   "source": [
    "hr_filenames[0]"
   ]
  },
  {
   "cell_type": "markdown",
   "metadata": {},
   "source": [
    "#### Load Metadata\n",
    "Load the metadata file into a datastructure that allows for easy lookups from subject ID to age group and sex."
   ]
  },
  {
   "cell_type": "code",
   "execution_count": 4,
   "metadata": {},
   "outputs": [],
   "source": [
    "metadata_filename = '/data/crisdb/metadata.csv'\n",
    "\n",
    "# Load the metadata file into this variable.\n",
    "with open(metadata_filename, 'r') as f:\n",
    "    metadata = pd.read_csv(f)"
   ]
  },
  {
   "cell_type": "code",
   "execution_count": 5,
   "metadata": {},
   "outputs": [
    {
     "data": {
      "text/html": [
       "<div>\n",
       "<style scoped>\n",
       "    .dataframe tbody tr th:only-of-type {\n",
       "        vertical-align: middle;\n",
       "    }\n",
       "\n",
       "    .dataframe tbody tr th {\n",
       "        vertical-align: top;\n",
       "    }\n",
       "\n",
       "    .dataframe thead th {\n",
       "        text-align: right;\n",
       "    }\n",
       "</style>\n",
       "<table border=\"1\" class=\"dataframe\">\n",
       "  <thead>\n",
       "    <tr style=\"text-align: right;\">\n",
       "      <th></th>\n",
       "      <th>subject</th>\n",
       "      <th>age</th>\n",
       "      <th>sex</th>\n",
       "    </tr>\n",
       "  </thead>\n",
       "  <tbody>\n",
       "    <tr>\n",
       "      <th>0</th>\n",
       "      <td>e198a</td>\n",
       "      <td>20-24</td>\n",
       "      <td>Male</td>\n",
       "    </tr>\n",
       "    <tr>\n",
       "      <th>1</th>\n",
       "      <td>e198b</td>\n",
       "      <td>20-24</td>\n",
       "      <td>Male</td>\n",
       "    </tr>\n",
       "    <tr>\n",
       "      <th>2</th>\n",
       "      <td>e028b</td>\n",
       "      <td>30-34</td>\n",
       "      <td>Male</td>\n",
       "    </tr>\n",
       "    <tr>\n",
       "      <th>3</th>\n",
       "      <td>e028a</td>\n",
       "      <td>30-34</td>\n",
       "      <td>Male</td>\n",
       "    </tr>\n",
       "    <tr>\n",
       "      <th>4</th>\n",
       "      <td>e061b</td>\n",
       "      <td>30-34</td>\n",
       "      <td>Male</td>\n",
       "    </tr>\n",
       "  </tbody>\n",
       "</table>\n",
       "</div>"
      ],
      "text/plain": [
       "  subject    age   sex\n",
       "0   e198a  20-24  Male\n",
       "1   e198b  20-24  Male\n",
       "2   e028b  30-34  Male\n",
       "3   e028a  30-34  Male\n",
       "4   e061b  30-34  Male"
      ]
     },
     "execution_count": 5,
     "metadata": {},
     "output_type": "execute_result"
    }
   ],
   "source": [
    "metadata.head()"
   ]
  },
  {
   "cell_type": "markdown",
   "metadata": {},
   "source": [
    "#### Compute Resting Heart Rate\n",
    "For each subject we want to compute the resting heart rate while keeping track of which age group this subject belongs to. An easy, robust way to compute the resting heart rate is to use the lowest 5th percentile value in the heart rate timeseries."
   ]
  },
  {
   "cell_type": "code",
   "execution_count": 6,
   "metadata": {},
   "outputs": [],
   "source": [
    "def AgeAndRHR(metadata, filename):\n",
    "\n",
    "    # Load the heart rate timeseries\n",
    "    hr_data = np.load(filename)['hr']\n",
    "    \n",
    "    # Compute the resting heart rate from the timeseries by finding the lowest 5th percentile value in hr_data\n",
    "    rhr = np.percentile(hr_data, 5)\n",
    "    \n",
    "    # Find the subject ID from the filename.\n",
    "    subject = filename.split('/')[-1].split(\".\")[0]\n",
    "\n",
    "    # Find the age group for this subject in metadata.\n",
    "    age_group = metadata[metadata['subject']==subject]['age'].values[0]\n",
    "    \n",
    "    # Find the sex for this subject in metadata.\n",
    "    sex = metadata[metadata['subject']==subject]['sex'].values[0]\n",
    "\n",
    "    return age_group, sex, rhr\n",
    "\n",
    "df = pd.DataFrame(data=[AgeAndRHR(metadata, filename) for filename in hr_filenames],\n",
    "                  columns=['age_group', 'sex', 'rhr'])"
   ]
  },
  {
   "cell_type": "code",
   "execution_count": 7,
   "metadata": {},
   "outputs": [
    {
     "data": {
      "text/html": [
       "<div>\n",
       "<style scoped>\n",
       "    .dataframe tbody tr th:only-of-type {\n",
       "        vertical-align: middle;\n",
       "    }\n",
       "\n",
       "    .dataframe tbody tr th {\n",
       "        vertical-align: top;\n",
       "    }\n",
       "\n",
       "    .dataframe thead th {\n",
       "        text-align: right;\n",
       "    }\n",
       "</style>\n",
       "<table border=\"1\" class=\"dataframe\">\n",
       "  <thead>\n",
       "    <tr style=\"text-align: right;\">\n",
       "      <th></th>\n",
       "      <th>age_group</th>\n",
       "      <th>sex</th>\n",
       "      <th>rhr</th>\n",
       "    </tr>\n",
       "  </thead>\n",
       "  <tbody>\n",
       "    <tr>\n",
       "      <th>0</th>\n",
       "      <td>60-64</td>\n",
       "      <td>Female</td>\n",
       "      <td>89.302326</td>\n",
       "    </tr>\n",
       "    <tr>\n",
       "      <th>1</th>\n",
       "      <td>65-69</td>\n",
       "      <td>Male</td>\n",
       "      <td>65.641026</td>\n",
       "    </tr>\n",
       "    <tr>\n",
       "      <th>2</th>\n",
       "      <td>45-49</td>\n",
       "      <td>Male</td>\n",
       "      <td>56.928458</td>\n",
       "    </tr>\n",
       "    <tr>\n",
       "      <th>3</th>\n",
       "      <td>60-64</td>\n",
       "      <td>Male</td>\n",
       "      <td>68.571429</td>\n",
       "    </tr>\n",
       "    <tr>\n",
       "      <th>4</th>\n",
       "      <td>50-54</td>\n",
       "      <td>Male</td>\n",
       "      <td>84.395604</td>\n",
       "    </tr>\n",
       "  </tbody>\n",
       "</table>\n",
       "</div>"
      ],
      "text/plain": [
       "  age_group     sex        rhr\n",
       "0     60-64  Female  89.302326\n",
       "1     65-69    Male  65.641026\n",
       "2     45-49    Male  56.928458\n",
       "3     60-64    Male  68.571429\n",
       "4     50-54    Male  84.395604"
      ]
     },
     "execution_count": 7,
     "metadata": {},
     "output_type": "execute_result"
    }
   ],
   "source": [
    "df.head()"
   ]
  },
  {
   "cell_type": "markdown",
   "metadata": {},
   "source": [
    "#### Plot Resting Heart Rate vs. Age Group\n",
    "We'll use [seaborn](https://seaborn.pydata.org/) to plot the relationship. Seaborn is a thin wrapper around matplotlib, which we've used extensively in this class, that enables higher-level statistical plots.\n",
    "\n",
    "We will use [lineplot](https://seaborn.pydata.org/generated/seaborn.lineplot.html#seaborn.lineplot) to plot the mean of the resting heart rates for each age group along with the 95% confidence interval around the mean. Learn more about making plots that show uncertainty [here](https://seaborn.pydata.org/tutorial/relational.html#aggregation-and-representing-uncertainty)."
   ]
  },
  {
   "cell_type": "code",
   "execution_count": 9,
   "metadata": {},
   "outputs": [
    {
     "data": {
      "image/png": "[encoded data removed]",
      "text/plain": [
       "<matplotlib.figure.Figure at 0x7fb3bbd355f8>"
      ]
     },
     "metadata": {
      "needs_background": "light"
     },
     "output_type": "display_data"
    }
   ],
   "source": [
    "import seaborn as sns\n",
    "from matplotlib import pyplot as plt\n",
    "\n",
    "labels = sorted(np.unique(df.age_group))\n",
    "df['xaxis'] = df.age_group.map(lambda x: labels.index(x)).astype('float')\n",
    "plt.figure(figsize=(12, 8))\n",
    "\n",
    "sns.lineplot(x='xaxis', y='rhr', hue='sex', data=df)\n",
    "_ = plt.xticks(np.arange(len(labels)), labels)"
   ]
  },
  {
   "cell_type": "markdown",
   "metadata": {},
   "source": [
    "### Clinical Conclusion\n",
    "Answer the following prompts to draw a conclusion about the data.\n",
    "> 1. For women, we see .... \n",
    "> 2. For men, we see ... \n",
    "> 3. In comparison to men, women's heart rate is .... \n",
    "> 4. What are some possible reasons for what we see in our data?\n",
    "> 5. What else can we do or go and find to figure out what is really happening? How would that improve the results?\n",
    "> 6. Did we validate the trend that average resting heart rate increases up until middle age and then decreases into old age? How?\n",
    "\n",
    "Your write-up will go here..."
   ]
  },
  {
   "cell_type": "markdown",
   "metadata": {},
   "source": [
    "### Student Answers:\n",
    "1. For women, we see they only account for 18% of the dataset. Women's heart rates are the highest in the age group 45-49 with an median of 73.4 and SD 19, and the age group that has the lowest median are the oldest age group. Also women's heart rate have more variance within age groups. especially within the age groups of 45-49 and 65-69. Meaning that there is high uncertainty in women's heart rate.\n",
    "\n",
    "\n",
    "2. For men, we see that they account for 82% of the dataset. The variance in men's heart rate is more consistent along the years. Which means that there is less uncertainty than men's heart rate is around 63 BPM. \n",
    "\n",
    "\n",
    "3. In comparison to men, women's heart rate is  higher and have a higher variance.\n",
    "\n",
    "\n",
    "4. **What are some possible reasons for what we see in our data?**\n",
    "\n",
    "This might be happening because of the smaller sample of female compared to males are the females are only 18% of the dataset whereas the males are arund 82%.\n",
    "\n",
    "\n",
    "5. **What else can we do or go and find to figure out what is really happening? How would that improve the results?**\n",
    "\n",
    "To improve the results, we must have an even number of samples for men and women in the dataset. Otherwise, the analysis will be more accurate for men than women because of the big sample size.\n",
    "\n",
    "6. **Did we validate the trend that average resting heart rate increases up until middle age and then decreases into old age? How?**\n",
    "\n",
    "No, there is no evidence of that. The trend can be seen in the age groups of females and heart rate plot, however we cannot validate that because of the very small sample that we have.  "
   ]
  },
  {
   "cell_type": "markdown",
   "metadata": {},
   "source": [
    "### Analysis and visualization "
   ]
  },
  {
   "cell_type": "code",
   "execution_count": 26,
   "metadata": {
    "scrolled": false
   },
   "outputs": [
    {
     "name": "stdout",
     "output_type": "stream",
     "text": [
      "\u001b[1mThe Distribution of Gender in all Patients: \u001b[0m\n",
      "Male      0.819779\n",
      "Female    0.180221\n",
      "Name: sex, dtype: float64\n"
     ]
    },
    {
     "data": {
      "image/png": "[encoded data removed]",
      "text/plain": [
       "<matplotlib.figure.Figure at 0x7fb3b9380fd0>"
      ]
     },
     "metadata": {
      "needs_background": "light"
     },
     "output_type": "display_data"
    }
   ],
   "source": [
    "fig, ax = plt.subplots( figsize=(8, 4))\n",
    "sns.countplot(x='sex',orient='h', data= df, palette = two_colors, saturation=0.90)\n",
    "\n",
    "ax.set_xlabel('Patient Sex')\n",
    "ax.set_ylabel('Frequency')\n",
    "plt.xticks([-0.5, 0, 1, 1.5], ['', 'Female','Male',''])\n",
    "fig.suptitle('The Distribution of Gender in all Patients ', fontsize = 20)\n",
    "\n",
    "ax.get_yaxis().set_major_formatter(plt.FuncFormatter(lambda x, loc: \"{:,}\".format(int(x))))\n",
    "\n",
    "print(BOLD+'The Distribution of Gender in all Patients:',END)\n",
    "print(df['sex'].value_counts()/len(df))\n",
    "\n",
    "plt.show();"
   ]
  },
  {
   "cell_type": "code",
   "execution_count": 58,
   "metadata": {},
   "outputs": [
    {
     "name": "stdout",
     "output_type": "stream",
     "text": [
      "\u001b[1mThe Distribution of age group in all Patients: \u001b[0m\n",
      "60-64    0.203643\n",
      "65-69    0.189330\n",
      "55-59    0.169811\n",
      "70-74    0.127521\n",
      "50-54    0.106701\n",
      "45-49    0.080677\n",
      "75-79    0.063761\n",
      "40-44    0.040338\n",
      "35-39    0.018217\n",
      "Name: age_group, dtype: float64\n"
     ]
    }
   ],
   "source": [
    "print(BOLD+'The Distribution of age group in all Patients:',END)\n",
    "print(df['age_group'].value_counts()/len(df))"
   ]
  },
  {
   "cell_type": "code",
   "execution_count": 59,
   "metadata": {},
   "outputs": [
    {
     "data": {
      "image/png": "[encoded data removed]",
      "text/plain": [
       "<matplotlib.figure.Figure at 0x7fb3b9343550>"
      ]
     },
     "metadata": {
      "needs_background": "light"
     },
     "output_type": "display_data"
    }
   ],
   "source": [
    "fig, ax = plt.subplots( figsize=(8, 4))\n",
    "sns.countplot(x='age_group',orient='h', data= df, hue= 'sex',\n",
    "              order=['35-39','40-44', '45-49','50-54', '55-59','60-64', '65-69', '70-74','75-79'],\n",
    "              palette = two_colors, saturation=0.90)\n",
    "\n",
    "ax.set_xlabel('Patient age group')\n",
    "ax.set_ylabel('Frequency')\n",
    "fig.suptitle('The Distribution of Patient age group ', fontsize = 20)\n",
    "\n",
    "\n",
    "plt.show();"
   ]
  },
  {
   "cell_type": "code",
   "execution_count": 32,
   "metadata": {
    "scrolled": true
   },
   "outputs": [
    {
     "data": {
      "image/png": "[encoded data removed]",
      "text/plain": [
       "<matplotlib.figure.Figure at 0x7fb3b90e3400>"
      ]
     },
     "metadata": {
      "needs_background": "light"
     },
     "output_type": "display_data"
    }
   ],
   "source": [
    "fig, ax = plt.subplots( figsize=(8, 4))\n",
    "ax.hist(df[df['sex']=='Female']['rhr'], bins=np.arange(0,100,2), alpha=0.8, color=sns.color_palette(color)[0], density= True, label = 'Female')\n",
    "ax.hist(df[df['sex']=='Male']['rhr'], bins=np.arange(0,100,2), alpha=0.8, color=sns.color_palette(color)[5], density= True, label = 'Male')\n",
    "\n",
    "ax.set_xlabel('Patient resting heart rate')\n",
    "ax.set_ylabel('Frequency Density')\n",
    "plt.legend(loc='best')\n",
    "fig.suptitle('The Distribution of Resting Heart Rate', fontsize = 20)\n",
    "\n",
    "plt.show();"
   ]
  },
  {
   "cell_type": "code",
   "execution_count": 33,
   "metadata": {},
   "outputs": [
    {
     "data": {
      "image/png": "[encoded data removed]",
      "text/plain": [
       "<matplotlib.figure.Figure at 0x7fb3b88e4780>"
      ]
     },
     "metadata": {
      "needs_background": "light"
     },
     "output_type": "display_data"
    }
   ],
   "source": [
    "fig, ax = plt.subplots( figsize=(8, 4))\n",
    "sns.boxplot(x='rhr', y='sex',orient='h', data= df, palette = two_colors, saturation=0.90)\n",
    "\n",
    "ax.set_xlabel('Patient rhr')\n",
    "plt.yticks([-0.5, 0, 1, 1.5], ['','Female', 'Male',''])\n",
    "plt.xticks(np.arange(0,120,20))\n",
    "ax.set_ylabel('Sex (Female/Male)')\n",
    "fig.suptitle('The Distribution of Resting Heart Rate in patients', fontsize = 20)\n",
    "\n",
    "plt.show();"
   ]
  },
  {
   "cell_type": "code",
   "execution_count": 49,
   "metadata": {},
   "outputs": [
    {
     "data": {
      "text/html": [
       "<div>\n",
       "<style scoped>\n",
       "    .dataframe tbody tr th:only-of-type {\n",
       "        vertical-align: middle;\n",
       "    }\n",
       "\n",
       "    .dataframe tbody tr th {\n",
       "        vertical-align: top;\n",
       "    }\n",
       "\n",
       "    .dataframe thead th {\n",
       "        text-align: right;\n",
       "    }\n",
       "</style>\n",
       "<table border=\"1\" class=\"dataframe\">\n",
       "  <thead>\n",
       "    <tr style=\"text-align: right;\">\n",
       "      <th></th>\n",
       "      <th>count</th>\n",
       "      <th>mean</th>\n",
       "      <th>std</th>\n",
       "      <th>min</th>\n",
       "      <th>25%</th>\n",
       "      <th>50%</th>\n",
       "      <th>75%</th>\n",
       "      <th>max</th>\n",
       "    </tr>\n",
       "  </thead>\n",
       "  <tbody>\n",
       "    <tr>\n",
       "      <th>rhr</th>\n",
       "      <td>277.0</td>\n",
       "      <td>65.965632</td>\n",
       "      <td>14.393868</td>\n",
       "      <td>1.55887</td>\n",
       "      <td>57.744361</td>\n",
       "      <td>66.300003</td>\n",
       "      <td>75.247986</td>\n",
       "      <td>101.726316</td>\n",
       "    </tr>\n",
       "  </tbody>\n",
       "</table>\n",
       "</div>"
      ],
      "text/plain": [
       "     count       mean        std      min        25%        50%        75%  \\\n",
       "rhr  277.0  65.965632  14.393868  1.55887  57.744361  66.300003  75.247986   \n",
       "\n",
       "            max  \n",
       "rhr  101.726316  "
      ]
     },
     "execution_count": 49,
     "metadata": {},
     "output_type": "execute_result"
    }
   ],
   "source": [
    "df[df['sex']=='Female'][['rhr']].describe().T"
   ]
  },
  {
   "cell_type": "code",
   "execution_count": 15,
   "metadata": {
    "scrolled": true
   },
   "outputs": [
    {
     "data": {
      "text/html": [
       "<div>\n",
       "<style scoped>\n",
       "    .dataframe tbody tr th:only-of-type {\n",
       "        vertical-align: middle;\n",
       "    }\n",
       "\n",
       "    .dataframe tbody tr th {\n",
       "        vertical-align: top;\n",
       "    }\n",
       "\n",
       "    .dataframe thead th {\n",
       "        text-align: right;\n",
       "    }\n",
       "</style>\n",
       "<table border=\"1\" class=\"dataframe\">\n",
       "  <thead>\n",
       "    <tr style=\"text-align: right;\">\n",
       "      <th></th>\n",
       "      <th>count</th>\n",
       "      <th>mean</th>\n",
       "      <th>std</th>\n",
       "      <th>min</th>\n",
       "      <th>25%</th>\n",
       "      <th>50%</th>\n",
       "      <th>75%</th>\n",
       "      <th>max</th>\n",
       "    </tr>\n",
       "  </thead>\n",
       "  <tbody>\n",
       "    <tr>\n",
       "      <th>rhr</th>\n",
       "      <td>1260.0</td>\n",
       "      <td>63.016196</td>\n",
       "      <td>13.064686</td>\n",
       "      <td>16.365223</td>\n",
       "      <td>53.782763</td>\n",
       "      <td>61.687742</td>\n",
       "      <td>70.369667</td>\n",
       "      <td>109.714286</td>\n",
       "    </tr>\n",
       "  </tbody>\n",
       "</table>\n",
       "</div>"
      ],
      "text/plain": [
       "      count       mean        std        min        25%        50%        75%  \\\n",
       "rhr  1260.0  63.016196  13.064686  16.365223  53.782763  61.687742  70.369667   \n",
       "\n",
       "            max  \n",
       "rhr  109.714286  "
      ]
     },
     "execution_count": 15,
     "metadata": {},
     "output_type": "execute_result"
    }
   ],
   "source": [
    "df[df['sex']=='Male'][['rhr']].describe().T"
   ]
  },
  {
   "cell_type": "code",
   "execution_count": 60,
   "metadata": {
    "scrolled": false
   },
   "outputs": [
    {
     "data": {
      "image/png": "[encoded data removed]",
      "text/plain": [
       "<matplotlib.figure.Figure at 0x7fb3b90e3550>"
      ]
     },
     "metadata": {
      "needs_background": "light"
     },
     "output_type": "display_data"
    }
   ],
   "source": [
    "fig, ax = plt.subplots( figsize=(8, 6))\n",
    "sns.boxplot(x='age_group', y='rhr',orient=None, data= df[df['sex']=='Female'], \n",
    "            order=['35-39','40-44', '45-49','50-54', '55-59','60-64', '65-69', '70-74','75-79'],\n",
    "            palette = two_colors, saturation=0.90)\n",
    "\n",
    "ax.set_xlabel('Patient age group')\n",
    "\n",
    "ax.set_ylabel('Resting Heart Rate')\n",
    "fig.suptitle('The Distribution of Resting Heart Rate in Female Age Groups', fontsize = 20)\n",
    "\n",
    "plt.show();"
   ]
  },
  {
   "cell_type": "code",
   "execution_count": 51,
   "metadata": {},
   "outputs": [
    {
     "data": {
      "text/html": [
       "<div>\n",
       "<style scoped>\n",
       "    .dataframe tbody tr th:only-of-type {\n",
       "        vertical-align: middle;\n",
       "    }\n",
       "\n",
       "    .dataframe tbody tr th {\n",
       "        vertical-align: top;\n",
       "    }\n",
       "\n",
       "    .dataframe thead tr th {\n",
       "        text-align: left;\n",
       "    }\n",
       "\n",
       "    .dataframe thead tr:last-of-type th {\n",
       "        text-align: right;\n",
       "    }\n",
       "</style>\n",
       "<table border=\"1\" class=\"dataframe\">\n",
       "  <thead>\n",
       "    <tr>\n",
       "      <th></th>\n",
       "      <th colspan=\"8\" halign=\"left\">rhr</th>\n",
       "    </tr>\n",
       "    <tr>\n",
       "      <th></th>\n",
       "      <th>count</th>\n",
       "      <th>mean</th>\n",
       "      <th>std</th>\n",
       "      <th>min</th>\n",
       "      <th>25%</th>\n",
       "      <th>50%</th>\n",
       "      <th>75%</th>\n",
       "      <th>max</th>\n",
       "    </tr>\n",
       "    <tr>\n",
       "      <th>age_group</th>\n",
       "      <th></th>\n",
       "      <th></th>\n",
       "      <th></th>\n",
       "      <th></th>\n",
       "      <th></th>\n",
       "      <th></th>\n",
       "      <th></th>\n",
       "      <th></th>\n",
       "    </tr>\n",
       "  </thead>\n",
       "  <tbody>\n",
       "    <tr>\n",
       "      <th>35-39</th>\n",
       "      <td>4.0</td>\n",
       "      <td>64.936157</td>\n",
       "      <td>10.743882</td>\n",
       "      <td>52.409348</td>\n",
       "      <td>57.866017</td>\n",
       "      <td>66.068868</td>\n",
       "      <td>73.139009</td>\n",
       "      <td>75.197544</td>\n",
       "    </tr>\n",
       "    <tr>\n",
       "      <th>40-44</th>\n",
       "      <td>8.0</td>\n",
       "      <td>72.880497</td>\n",
       "      <td>13.096411</td>\n",
       "      <td>55.037016</td>\n",
       "      <td>63.419024</td>\n",
       "      <td>70.512129</td>\n",
       "      <td>82.146161</td>\n",
       "      <td>95.068365</td>\n",
       "    </tr>\n",
       "    <tr>\n",
       "      <th>45-49</th>\n",
       "      <td>15.0</td>\n",
       "      <td>71.109613</td>\n",
       "      <td>19.509168</td>\n",
       "      <td>19.729796</td>\n",
       "      <td>63.790653</td>\n",
       "      <td>73.400829</td>\n",
       "      <td>83.749407</td>\n",
       "      <td>101.726316</td>\n",
       "    </tr>\n",
       "    <tr>\n",
       "      <th>50-54</th>\n",
       "      <td>18.0</td>\n",
       "      <td>70.464430</td>\n",
       "      <td>14.508093</td>\n",
       "      <td>34.947863</td>\n",
       "      <td>61.514561</td>\n",
       "      <td>68.339129</td>\n",
       "      <td>80.000000</td>\n",
       "      <td>98.461538</td>\n",
       "    </tr>\n",
       "    <tr>\n",
       "      <th>55-59</th>\n",
       "      <td>46.0</td>\n",
       "      <td>70.488809</td>\n",
       "      <td>12.522566</td>\n",
       "      <td>37.289038</td>\n",
       "      <td>63.572916</td>\n",
       "      <td>70.464646</td>\n",
       "      <td>77.096008</td>\n",
       "      <td>92.530120</td>\n",
       "    </tr>\n",
       "    <tr>\n",
       "      <th>60-64</th>\n",
       "      <td>67.0</td>\n",
       "      <td>67.733858</td>\n",
       "      <td>12.379561</td>\n",
       "      <td>40.120687</td>\n",
       "      <td>59.647670</td>\n",
       "      <td>67.964602</td>\n",
       "      <td>76.862082</td>\n",
       "      <td>94.814815</td>\n",
       "    </tr>\n",
       "    <tr>\n",
       "      <th>65-69</th>\n",
       "      <td>61.0</td>\n",
       "      <td>62.926454</td>\n",
       "      <td>16.042538</td>\n",
       "      <td>1.558870</td>\n",
       "      <td>55.054471</td>\n",
       "      <td>66.206897</td>\n",
       "      <td>72.180408</td>\n",
       "      <td>93.658537</td>\n",
       "    </tr>\n",
       "    <tr>\n",
       "      <th>70-74</th>\n",
       "      <td>39.0</td>\n",
       "      <td>59.386176</td>\n",
       "      <td>14.732023</td>\n",
       "      <td>26.203684</td>\n",
       "      <td>50.811667</td>\n",
       "      <td>61.440000</td>\n",
       "      <td>66.931587</td>\n",
       "      <td>88.275862</td>\n",
       "    </tr>\n",
       "    <tr>\n",
       "      <th>75-79</th>\n",
       "      <td>19.0</td>\n",
       "      <td>61.024178</td>\n",
       "      <td>6.889330</td>\n",
       "      <td>47.859866</td>\n",
       "      <td>57.969694</td>\n",
       "      <td>60.952381</td>\n",
       "      <td>64.141177</td>\n",
       "      <td>79.587629</td>\n",
       "    </tr>\n",
       "  </tbody>\n",
       "</table>\n",
       "</div>"
      ],
      "text/plain": [
       "            rhr                                                         \\\n",
       "          count       mean        std        min        25%        50%   \n",
       "age_group                                                                \n",
       "35-39       4.0  64.936157  10.743882  52.409348  57.866017  66.068868   \n",
       "40-44       8.0  72.880497  13.096411  55.037016  63.419024  70.512129   \n",
       "45-49      15.0  71.109613  19.509168  19.729796  63.790653  73.400829   \n",
       "50-54      18.0  70.464430  14.508093  34.947863  61.514561  68.339129   \n",
       "55-59      46.0  70.488809  12.522566  37.289038  63.572916  70.464646   \n",
       "60-64      67.0  67.733858  12.379561  40.120687  59.647670  67.964602   \n",
       "65-69      61.0  62.926454  16.042538   1.558870  55.054471  66.206897   \n",
       "70-74      39.0  59.386176  14.732023  26.203684  50.811667  61.440000   \n",
       "75-79      19.0  61.024178   6.889330  47.859866  57.969694  60.952381   \n",
       "\n",
       "                                  \n",
       "                 75%         max  \n",
       "age_group                         \n",
       "35-39      73.139009   75.197544  \n",
       "40-44      82.146161   95.068365  \n",
       "45-49      83.749407  101.726316  \n",
       "50-54      80.000000   98.461538  \n",
       "55-59      77.096008   92.530120  \n",
       "60-64      76.862082   94.814815  \n",
       "65-69      72.180408   93.658537  \n",
       "70-74      66.931587   88.275862  \n",
       "75-79      64.141177   79.587629  "
      ]
     },
     "execution_count": 51,
     "metadata": {},
     "output_type": "execute_result"
    }
   ],
   "source": [
    "df[df['sex']=='Female'].groupby('age_group')[['rhr']].describe()"
   ]
  },
  {
   "cell_type": "code",
   "execution_count": 61,
   "metadata": {},
   "outputs": [
    {
     "data": {
      "image/png": "[encoded data removed]",
      "text/plain": [
       "<matplotlib.figure.Figure at 0x7fb3b93090f0>"
      ]
     },
     "metadata": {
      "needs_background": "light"
     },
     "output_type": "display_data"
    }
   ],
   "source": [
    "fig, ax = plt.subplots( figsize=(8, 6))\n",
    "sns.boxplot(x='age_group', y='rhr',orient=None, data= df[df['sex']=='Male'], \n",
    "            order=['35-39','40-44', '45-49','50-54', '55-59','60-64', '65-69', '70-74','75-79'],\n",
    "            palette = two_colors, saturation=0.90)\n",
    "\n",
    "ax.set_xlabel('Patient age group')\n",
    "\n",
    "ax.set_ylabel('Resting Heart Rate')\n",
    "fig.suptitle('The Distribution of Resting Heart Rate in Male Age Groups', fontsize = 20)\n",
    "\n",
    "plt.show();"
   ]
  },
  {
   "cell_type": "code",
   "execution_count": 53,
   "metadata": {},
   "outputs": [
    {
     "data": {
      "text/html": [
       "<div>\n",
       "<style scoped>\n",
       "    .dataframe tbody tr th:only-of-type {\n",
       "        vertical-align: middle;\n",
       "    }\n",
       "\n",
       "    .dataframe tbody tr th {\n",
       "        vertical-align: top;\n",
       "    }\n",
       "\n",
       "    .dataframe thead tr th {\n",
       "        text-align: left;\n",
       "    }\n",
       "\n",
       "    .dataframe thead tr:last-of-type th {\n",
       "        text-align: right;\n",
       "    }\n",
       "</style>\n",
       "<table border=\"1\" class=\"dataframe\">\n",
       "  <thead>\n",
       "    <tr>\n",
       "      <th></th>\n",
       "      <th colspan=\"8\" halign=\"left\">rhr</th>\n",
       "    </tr>\n",
       "    <tr>\n",
       "      <th></th>\n",
       "      <th>count</th>\n",
       "      <th>mean</th>\n",
       "      <th>std</th>\n",
       "      <th>min</th>\n",
       "      <th>25%</th>\n",
       "      <th>50%</th>\n",
       "      <th>75%</th>\n",
       "      <th>max</th>\n",
       "    </tr>\n",
       "    <tr>\n",
       "      <th>age_group</th>\n",
       "      <th></th>\n",
       "      <th></th>\n",
       "      <th></th>\n",
       "      <th></th>\n",
       "      <th></th>\n",
       "      <th></th>\n",
       "      <th></th>\n",
       "      <th></th>\n",
       "    </tr>\n",
       "  </thead>\n",
       "  <tbody>\n",
       "    <tr>\n",
       "      <th>35-39</th>\n",
       "      <td>24.0</td>\n",
       "      <td>65.092105</td>\n",
       "      <td>11.897925</td>\n",
       "      <td>48.609542</td>\n",
       "      <td>58.570437</td>\n",
       "      <td>62.451896</td>\n",
       "      <td>70.717044</td>\n",
       "      <td>96.000000</td>\n",
       "    </tr>\n",
       "    <tr>\n",
       "      <th>40-44</th>\n",
       "      <td>54.0</td>\n",
       "      <td>63.046920</td>\n",
       "      <td>12.343532</td>\n",
       "      <td>30.727668</td>\n",
       "      <td>55.955692</td>\n",
       "      <td>61.747190</td>\n",
       "      <td>67.383708</td>\n",
       "      <td>96.000000</td>\n",
       "    </tr>\n",
       "    <tr>\n",
       "      <th>45-49</th>\n",
       "      <td>109.0</td>\n",
       "      <td>65.359438</td>\n",
       "      <td>14.383833</td>\n",
       "      <td>40.106899</td>\n",
       "      <td>54.276296</td>\n",
       "      <td>62.293042</td>\n",
       "      <td>73.846154</td>\n",
       "      <td>98.461538</td>\n",
       "    </tr>\n",
       "    <tr>\n",
       "      <th>50-54</th>\n",
       "      <td>146.0</td>\n",
       "      <td>64.594842</td>\n",
       "      <td>14.592072</td>\n",
       "      <td>17.603231</td>\n",
       "      <td>53.897400</td>\n",
       "      <td>63.981300</td>\n",
       "      <td>73.056604</td>\n",
       "      <td>107.671758</td>\n",
       "    </tr>\n",
       "    <tr>\n",
       "      <th>55-59</th>\n",
       "      <td>215.0</td>\n",
       "      <td>61.622980</td>\n",
       "      <td>10.915386</td>\n",
       "      <td>24.698375</td>\n",
       "      <td>54.166624</td>\n",
       "      <td>60.000000</td>\n",
       "      <td>67.779115</td>\n",
       "      <td>99.740260</td>\n",
       "    </tr>\n",
       "    <tr>\n",
       "      <th>60-64</th>\n",
       "      <td>246.0</td>\n",
       "      <td>62.780684</td>\n",
       "      <td>13.288616</td>\n",
       "      <td>25.111180</td>\n",
       "      <td>52.784128</td>\n",
       "      <td>61.658469</td>\n",
       "      <td>70.458716</td>\n",
       "      <td>108.462833</td>\n",
       "    </tr>\n",
       "    <tr>\n",
       "      <th>65-69</th>\n",
       "      <td>230.0</td>\n",
       "      <td>63.480979</td>\n",
       "      <td>12.179729</td>\n",
       "      <td>16.365223</td>\n",
       "      <td>55.464798</td>\n",
       "      <td>62.566973</td>\n",
       "      <td>69.996050</td>\n",
       "      <td>96.000000</td>\n",
       "    </tr>\n",
       "    <tr>\n",
       "      <th>70-74</th>\n",
       "      <td>157.0</td>\n",
       "      <td>61.871341</td>\n",
       "      <td>14.167787</td>\n",
       "      <td>21.346593</td>\n",
       "      <td>51.233249</td>\n",
       "      <td>60.952381</td>\n",
       "      <td>70.496922</td>\n",
       "      <td>99.740260</td>\n",
       "    </tr>\n",
       "    <tr>\n",
       "      <th>75-79</th>\n",
       "      <td>79.0</td>\n",
       "      <td>61.661049</td>\n",
       "      <td>13.587539</td>\n",
       "      <td>33.568408</td>\n",
       "      <td>51.553910</td>\n",
       "      <td>60.472441</td>\n",
       "      <td>69.620271</td>\n",
       "      <td>109.714286</td>\n",
       "    </tr>\n",
       "  </tbody>\n",
       "</table>\n",
       "</div>"
      ],
      "text/plain": [
       "             rhr                                                         \\\n",
       "           count       mean        std        min        25%        50%   \n",
       "age_group                                                                 \n",
       "35-39       24.0  65.092105  11.897925  48.609542  58.570437  62.451896   \n",
       "40-44       54.0  63.046920  12.343532  30.727668  55.955692  61.747190   \n",
       "45-49      109.0  65.359438  14.383833  40.106899  54.276296  62.293042   \n",
       "50-54      146.0  64.594842  14.592072  17.603231  53.897400  63.981300   \n",
       "55-59      215.0  61.622980  10.915386  24.698375  54.166624  60.000000   \n",
       "60-64      246.0  62.780684  13.288616  25.111180  52.784128  61.658469   \n",
       "65-69      230.0  63.480979  12.179729  16.365223  55.464798  62.566973   \n",
       "70-74      157.0  61.871341  14.167787  21.346593  51.233249  60.952381   \n",
       "75-79       79.0  61.661049  13.587539  33.568408  51.553910  60.472441   \n",
       "\n",
       "                                  \n",
       "                 75%         max  \n",
       "age_group                         \n",
       "35-39      70.717044   96.000000  \n",
       "40-44      67.383708   96.000000  \n",
       "45-49      73.846154   98.461538  \n",
       "50-54      73.056604  107.671758  \n",
       "55-59      67.779115   99.740260  \n",
       "60-64      70.458716  108.462833  \n",
       "65-69      69.996050   96.000000  \n",
       "70-74      70.496922   99.740260  \n",
       "75-79      69.620271  109.714286  "
      ]
     },
     "execution_count": 53,
     "metadata": {},
     "output_type": "execute_result"
    }
   ],
   "source": [
    "df[df['sex']=='Male'].groupby('age_group')[['rhr']].describe()"
   ]
  }
 ],
 "metadata": {
  "kernelspec": {
   "display_name": "Python 3",
   "language": "python",
   "name": "python3"
  },
  "language_info": {
   "codemirror_mode": {
    "name": "ipython",
    "version": 3
   },
   "file_extension": ".py",
   "mimetype": "text/x-python",
   "name": "python",
   "nbconvert_exporter": "python",
   "pygments_lexer": "ipython3",
   "version": "3.6.3"
  }
 },
 "nbformat": 4,
 "nbformat_minor": 2
}
